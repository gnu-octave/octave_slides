{
 "cells": [
  {
   "cell_type": "markdown",
   "metadata": {},
   "source": [
    "# Getting the input: Data I/O and visualization\n",
    "\n",
    "> *Dec 17, 2019 — Kai T. Ohlhus &lt;<k.ohlhus@gmail.com>&gt; — [CC BY 4.0](http://creativecommons.org/licenses/by/4.0/)*\n",
    "\n",
    "- Plotting: `plot()`, `stem()`, `mesh()`, ...\n",
    "- Data I/O: `load()`, `save()`, `csvread()`, `xlsread()`, ..."
   ]
  },
  {
   "cell_type": "markdown",
   "metadata": {},
   "source": [
    "## Excel\n",
    "\n",
    "- Make use of the **Octave Forge io package**\n",
    "- `Financial Sample.xlsx` from\n",
    "  https://go.microsoft.com/fwlink/?LinkID=521962\n"
   ]
  },
  {
   "cell_type": "code",
   "execution_count": 2,
   "metadata": {},
   "outputs": [
    {
     "name": "stdout",
     "output_type": "stream",
     "text": [
      "Detected XLS interfaces: num_data =\n",
      "\n",
      " Columns 1 through 5:\n",
      "\n",
      "    1618.50000       3.00000      20.00000   32370.00000       0.00000\n",
      "    1321.00000       3.00000      20.00000   26420.00000       0.00000\n",
      "\n",
      " Columns 6 through 10:\n",
      "\n",
      "   32370.00000   16185.00000   16185.00000   41640.00000       1.00000\n",
      "   26420.00000   13210.00000   13210.00000   41640.00000       1.00000\n",
      "\n"
     ]
    }
   ],
   "source": [
    "clear all\n",
    "pkg load io\n",
    "[num_data,txt_data,raw_cell_data] ...\n",
    "= xlsread ('Financial Sample.xlsx', 1, 'A1:P3');\n",
    "num_data"
   ]
  },
  {
   "cell_type": "code",
   "execution_count": 3,
   "metadata": {},
   "outputs": [
    {
     "data": {
      "image/png": "[encoded data removed]",
      "text/plain": [
       "<IPython.core.display.Image object>"
      ]
     },
     "metadata": {},
     "output_type": "display_data"
    }
   ],
   "source": [
    "stem (num_data')"
   ]
  },
  {
   "cell_type": "markdown",
   "metadata": {},
   "source": [
    "## Matrix Market\n",
    "\n",
    "- `mmread.m` from\n",
    "  https://math.nist.gov/MatrixMarket/mmio/matlab/mmiomatlab.html\n",
    "- `bcsstm07.mtx.gz` from\n",
    "  https://math.nist.gov/MatrixMarket/data/Harwell-Boeing/bcsstruc1/bcsstm07.html"
   ]
  },
  {
   "cell_type": "code",
   "execution_count": 4,
   "metadata": {},
   "outputs": [
    {
     "data": {
      "image/png": "[encoded data removed]",
      "text/plain": [
       "<IPython.core.display.Image object>"
      ]
     },
     "metadata": {},
     "output_type": "display_data"
    }
   ],
   "source": [
    "clear all\n",
    "if (exist (\"bcsstm07.mtx.gz\", \"file\") == 2)\n",
    "   gunzip (\"bcsstm07.mtx.gz\")\n",
    "endif\n",
    "A = mmread (\"bcsstm07.mtx\");\n",
    "spy (A);"
   ]
  },
  {
   "cell_type": "code",
   "execution_count": 5,
   "metadata": {},
   "outputs": [
    {
     "name": "stdout",
     "output_type": "stream",
     "text": [
      "ans =  2510.4\n",
      "ans =  0.32966\n",
      "ans = 1\n"
     ]
    }
   ],
   "source": [
    "[V,E] = eig (A, \"vector\");\n",
    "max (E)\n",
    "min (E)\n",
    "isdefinite (A)"
   ]
  },
  {
   "cell_type": "code",
   "execution_count": null,
   "metadata": {},
   "outputs": [],
   "source": []
  }
 ],
 "metadata": {
  "kernelspec": {
   "display_name": "Octave",
   "language": "octave",
   "name": "octave"
  },
  "language_info": {
   "file_extension": ".m",
   "help_links": [
    {
     "text": "GNU Octave",
     "url": "https://www.gnu.org/software/octave/support.html"
    },
    {
     "text": "Octave Kernel",
     "url": "https://github.com/Calysto/octave_kernel"
    },
    {
     "text": "MetaKernel Magics",
     "url": "https://metakernel.readthedocs.io/en/latest/source/README.html"
    }
   ],
   "mimetype": "text/x-octave",
   "name": "octave",
   "version": "5.1.0"
  }
 },
 "nbformat": 4,
 "nbformat_minor": 4
}
