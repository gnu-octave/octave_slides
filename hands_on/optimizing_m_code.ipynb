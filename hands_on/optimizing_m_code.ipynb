{
 "cells": [
  {
   "cell_type": "markdown",
   "metadata": {},
   "source": [
    "# Speed up computations: optimizing Octave code\n",
    "\n",
    "> *Dec 20, 2019 — Kai T. Ohlhus &lt;<k.ohlhus@gmail.com>&gt; — [CC BY 4.0](http://creativecommons.org/licenses/by/4.0/)*\n",
    "\n",
    "> \"We should **forget about small efficiencies**, say about 97% of the time: **premature optimization is the root of all evil**.\n",
    "> Yet we should not pass up our opportunities in that critical 3%\"*\n",
    ">\n",
    "> &mdash;[Donald Knuth (1974)](https://doi.org/10.1145%2F356635.356640)"
   ]
  },
  {
   "cell_type": "markdown",
   "metadata": {},
   "source": [
    "## Matrix Operations (Vectorization)\n",
    "\n",
    "- Matrix addition $C = A + B$."
   ]
  },
  {
   "cell_type": "code",
   "execution_count": 1,
   "metadata": {},
   "outputs": [],
   "source": [
    "clear all;\n",
    "m = 200;\n",
    "n = 5000;\n",
    "A = rand (m, n);\n",
    "B = rand (m, n);"
   ]
  },
  {
   "cell_type": "code",
   "execution_count": 2,
   "metadata": {},
   "outputs": [
    {
     "name": "stdout",
     "output_type": "stream",
     "text": [
      "t1 =  10.999\n"
     ]
    }
   ],
   "source": [
    "tic;\n",
    "for i = 1:m\n",
    "  for j = 1:n\n",
    "    C1(i,j) = A(i,j) + B(i,j);\n",
    "  endfor\n",
    "endfor\n",
    "t1 = toc"
   ]
  },
  {
   "cell_type": "markdown",
   "metadata": {},
   "source": [
    "- loops in Octave are slow, **nested loops** even **slower**.\n",
    "- Octave does not know how big `C1` will be.\n",
    "  Thus **memory** has to be **allocated and freed** in many steps."
   ]
  },
  {
   "cell_type": "code",
   "execution_count": 3,
   "metadata": {},
   "outputs": [
    {
     "name": "stdout",
     "output_type": "stream",
     "text": [
      "t2 =  0.16322\n",
      "-98.52 %"
     ]
    }
   ],
   "source": [
    "tic;\n",
    "for i = 1:m\n",
    "  C2(i,1:n) = A(i,:) + B(i,:);\n",
    "endfor\n",
    "t2 = toc\n",
    "printf(\"%.2f %%\", (-1 + t2 / t1) * 100)"
   ]
  },
  {
   "cell_type": "code",
   "execution_count": 4,
   "metadata": {},
   "outputs": [
    {
     "name": "stdout",
     "output_type": "stream",
     "text": [
      "t3 =  0.0069852\n",
      "-99.94 %"
     ]
    }
   ],
   "source": [
    "tic;\n",
    "C3 = A + B;\n",
    "t3 = toc\n",
    "printf(\"%.2f %%\", (-1 + t3 / t1) * 100)"
   ]
  },
  {
   "cell_type": "markdown",
   "metadata": {},
   "source": [
    "## Memory Management\n",
    "\n",
    "- Evaluation of $\\;\\tan(x) = \\frac{sin(x)}{cos(x)}$.\n",
    "- Octave allows to grow arrays automatically `y(end+1)`.\n",
    "- If used too often, e.g. in a loop, the price of **memory allocation** is high."
   ]
  },
  {
   "cell_type": "code",
   "execution_count": 5,
   "metadata": {},
   "outputs": [],
   "source": [
    "clear all;\n",
    "x = rand (500_000,1);"
   ]
  },
  {
   "cell_type": "code",
   "execution_count": 6,
   "metadata": {},
   "outputs": [],
   "source": [
    "function y = my_tan1 (x)\n",
    "  y = [];\n",
    "  for i = 1:numel (x)\n",
    "    y(end+1) = sin (x(i)) / cos (x(i));\n",
    "  endfor\n",
    "endfunction"
   ]
  },
  {
   "cell_type": "code",
   "execution_count": 7,
   "metadata": {},
   "outputs": [
    {
     "name": "stdout",
     "output_type": "stream",
     "text": [
      "t1 =  11.170\n"
     ]
    }
   ],
   "source": [
    "tic;\n",
    "my_tan1 (x);\n",
    "t1 = toc"
   ]
  },
  {
   "cell_type": "code",
   "execution_count": 8,
   "metadata": {},
   "outputs": [],
   "source": [
    "function y = my_tan2 (x)\n",
    "  y = zeros (size (x));\n",
    "  for i = 1:numel (x)\n",
    "    y(i) = sin (x(i)) / cos (x(i));\n",
    "  endfor\n",
    "endfunction"
   ]
  },
  {
   "cell_type": "code",
   "execution_count": 9,
   "metadata": {},
   "outputs": [
    {
     "name": "stdout",
     "output_type": "stream",
     "text": [
      "t2 =  8.1175\n",
      "-27.33 %"
     ]
    }
   ],
   "source": [
    "tic;\n",
    "my_tan2 (x);\n",
    "t2 = toc\n",
    "printf(\"%.2f %%\", (-1 + t2 / t1) * 100)"
   ]
  },
  {
   "cell_type": "code",
   "execution_count": 10,
   "metadata": {},
   "outputs": [
    {
     "name": "stdout",
     "output_type": "stream",
     "text": [
      "t3 =  0.030731\n",
      "-99.72 %"
     ]
    }
   ],
   "source": [
    "tic;\n",
    "tan (x);\n",
    "t3 = toc\n",
    "printf(\"%.2f %%\", (-1 + t3 / t1) * 100)"
   ]
  },
  {
   "cell_type": "markdown",
   "metadata": {},
   "source": [
    "## In-Place Operations (Octave only!)"
   ]
  },
  {
   "cell_type": "code",
   "execution_count": 11,
   "metadata": {},
   "outputs": [],
   "source": [
    "clear all;\n",
    "n = 20_000;\n",
    "A = rand (n, n);"
   ]
  },
  {
   "cell_type": "code",
   "execution_count": 12,
   "metadata": {},
   "outputs": [
    {
     "name": "stdout",
     "output_type": "stream",
     "text": [
      "t1 =  0.69806\n"
     ]
    }
   ],
   "source": [
    "tic;\n",
    "A = A + 1;\n",
    "t1 = toc"
   ]
  },
  {
   "cell_type": "code",
   "execution_count": 13,
   "metadata": {},
   "outputs": [
    {
     "name": "stdout",
     "output_type": "stream",
     "text": [
      "t3 =  0.40725\n",
      "-41.66 %"
     ]
    }
   ],
   "source": [
    "tic;\n",
    "A += 1;\n",
    "t3 = toc\n",
    "printf(\"%.2f %%\", (-1 + t3 / t1) * 100)"
   ]
  },
  {
   "cell_type": "markdown",
   "metadata": {},
   "source": [
    "## Rules of thumb for optimizing Octave code\n",
    "\n",
    "1. Implement your algorithm **correct** and **readable**.\n",
    "2. Use as much **builtin Octave functions** as possible,\n",
    "   avoid code **interpretation**.\n",
    "3. Find bottlenecks using `profile()`.\n",
    "   Determine a **reference time** to compare optimization attempts.\n",
    "   ```octave\n",
    "      profile on;\n",
    "      ## CODE_TO_INSPECT\n",
    "      profile off;\n",
    "      \n",
    "      profshow ()\n",
    "      profexplore ()\n",
    "      profexport (\"/path/to/html\")\n",
    "   ```\n",
    "   Making code more difficult to read **must** pay off!\n",
    "4. **Vectorize** Matrix-Vector operations wherever possible.\n",
    "5. Avoid `y(end+1)`, **preallocate memory** `y = zeros(...)`.\n",
    "6. Avoid large **intermediate copies** of data.\n",
    "\n",
    "If performance is still an issue: use the\n",
    "[external code interface](https://octave.org/doc/v5.1.0/External-Code-Interface.html)."
   ]
  },
  {
   "cell_type": "markdown",
   "metadata": {},
   "source": [
    "## References\n",
    "\n",
    "- Rik Wehbring (2015).  Writing High Performance m-files.\n",
    "  URL https://wiki.octave.org/File:High_Performance_Mfiles.pdf\n",
    "- Vectorization and Faster Code Execution.\n",
    "  In: John W. Eaton, David Bateman, Søren Hauberg, Rik Wehbring (2019).\n",
    "  GNU Octave version 5.1.0 manual: a high-level interactive language for\n",
    "  numerical computations.\n",
    "  URL https://octave.org/doc/v5.1.0/Vectorization-and-Faster-Code-Execution.html"
   ]
  },
  {
   "cell_type": "code",
   "execution_count": null,
   "metadata": {},
   "outputs": [],
   "source": []
  }
 ],
 "metadata": {
  "kernelspec": {
   "display_name": "Octave",
   "language": "octave",
   "name": "octave"
  },
  "language_info": {
   "file_extension": ".m",
   "help_links": [
    {
     "text": "GNU Octave",
     "url": "https://www.gnu.org/software/octave/support.html"
    },
    {
     "text": "Octave Kernel",
     "url": "https://github.com/Calysto/octave_kernel"
    },
    {
     "text": "MetaKernel Magics",
     "url": "https://metakernel.readthedocs.io/en/latest/source/README.html"
    }
   ],
   "mimetype": "text/x-octave",
   "name": "octave",
   "version": "5.1.0"
  }
 },
 "nbformat": 4,
 "nbformat_minor": 4
}
