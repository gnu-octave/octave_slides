{
 "cells": [
  {
   "cell_type": "markdown",
   "metadata": {},
   "source": [
    "# Embed the GNU Octave in your C++ program\n",
    "\n",
    "> *Dec 17, 2019 — Kai T. Ohlhus &lt;<k.ohlhus@gmail.com>&gt; — [CC BY 4.0](http://creativecommons.org/licenses/by/4.0/)*"
   ]
  },
  {
   "cell_type": "code",
   "execution_count": null,
   "metadata": {},
   "outputs": [],
   "source": [
    "type functions/embedded.cc"
   ]
  },
  {
   "cell_type": "code",
   "execution_count": 10,
   "metadata": {},
   "outputs": [
    {
     "name": "stdout",
     "output_type": "stream",
     "text": [
      "functions/embedded.cc: In function ‘int main()’:\n",
      "functions/embedded.cc:25:22: error: ‘in’ was not declared in this scope\n",
      "                   << in(0).int_value ()\n",
      "                      ^~\n",
      "functions/embedded.cc:25:22: note: suggested alternative: ‘min’\n",
      "                   << in(0).int_value ()\n",
      "                      ^~\n",
      "                      min\n",
      "\n"
     ]
    }
   ],
   "source": [
    "!mkoctfile --link-stand-alone functions/embedded.cc -o embedded.exe"
   ]
  },
  {
   "cell_type": "code",
   "execution_count": null,
   "metadata": {},
   "outputs": [],
   "source": [
    "!ldd ./embedded.exe"
   ]
  },
  {
   "cell_type": "code",
   "execution_count": null,
   "metadata": {},
   "outputs": [],
   "source": [
    "![[ \":$LD_LIBRARY_PATH:\" != *\":/home/siko1056/work/octave/GNU-Octave-enable-64/install/lib/octave/5.1.0/:\"* ]] && export LD_LIBRARY_PATH=\"/home/siko1056/work/octave/GNU-Octave-enable-64/install/lib/octave/5.1.0/:${LD_LIBRARY_PATH}\"\n",
    "!echo \"$LD_LIBRARY_PATH\""
   ]
  },
  {
   "cell_type": "code",
   "execution_count": 9,
   "metadata": {},
   "outputs": [
    {
     "name": "stdout",
     "output_type": "stream",
     "text": [
      "GCD of [10, 15] is 5\n",
      "\n"
     ]
    }
   ],
   "source": [
    "!./embedded.exe"
   ]
  },
  {
   "cell_type": "code",
   "execution_count": null,
   "metadata": {},
   "outputs": [],
   "source": []
  }
 ],
 "metadata": {
  "kernelspec": {
   "display_name": "Octave",
   "language": "octave",
   "name": "octave"
  },
  "language_info": {
   "file_extension": ".m",
   "help_links": [
    {
     "text": "GNU Octave",
     "url": "https://www.gnu.org/software/octave/support.html"
    },
    {
     "text": "Octave Kernel",
     "url": "https://github.com/Calysto/octave_kernel"
    },
    {
     "text": "MetaKernel Magics",
     "url": "https://metakernel.readthedocs.io/en/latest/source/README.html"
    }
   ],
   "mimetype": "text/x-octave",
   "name": "octave",
   "version": "5.1.0"
  }
 },
 "nbformat": 4,
 "nbformat_minor": 4
}
