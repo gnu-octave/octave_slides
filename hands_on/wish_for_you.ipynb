{
 "cells": [
  {
   "cell_type": "markdown",
   "metadata": {},
   "source": [
    "# Some Xmas fun\n",
    "\n",
    "> *Dec 17, 2019 — Kai T. Ohlhus &lt;<k.ohlhus@gmail.com>&gt; — [CC BY 4.0](http://creativecommons.org/licenses/by/4.0/)*\n",
    "\n",
    "Inspired by https://wiki.octave.org/Octave_fun."
   ]
  },
  {
   "cell_type": "code",
   "execution_count": null,
   "metadata": {
    "collapsed": true,
    "jupyter": {
     "outputs_hidden": true
    }
   },
   "outputs": [],
   "source": [
    "N = 25;  # Height\n",
    "H = 7;   # Trunk height\n",
    "g = 0.2; # Density of decoration (0 <= g <= 1).\n",
    "\n",
    "printf([char(27), \"[31m\"])\n",
    "disp (\"███╗   ███╗███████╗██████╗ ██████╗ ██╗   ██╗    ██╗  ██╗███╗   ███╗ █████╗ ███████╗\");\n",
    "disp (\"████╗ ████║██╔════╝██╔══██╗██╔══██╗╚██╗ ██╔╝    ╚██╗██╔╝████╗ ████║██╔══██╗██╔════╝\");\n",
    "disp (\"██╔████╔██║█████╗  ██████╔╝██████╔╝ ╚████╔╝      ╚███╔╝ ██╔████╔██║███████║███████╗\");\n",
    "disp (\"██║╚██╔╝██║██╔══╝  ██╔══██╗██╔══██╗  ╚██╔╝       ██╔██╗ ██║╚██╔╝██║██╔══██║╚════██║\");\n",
    "disp (\"██║ ╚═╝ ██║███████╗██║  ██║██║  ██║   ██║       ██╔╝ ██╗██║ ╚═╝ ██║██║  ██║███████║\");\n",
    "disp (\"╚═╝     ╚═╝╚══════╝╚═╝  ╚═╝╚═╝  ╚═╝   ╚═╝       ╚═╝  ╚═╝╚═╝     ╚═╝╚═╝  ╚═╝╚══════╝\\n\");\n",
    "\n",
    "printf([char(27), \"[32m\"])\n",
    "for i = 1:N\n",
    "  for j = 1:N-i\n",
    "     printf (\" \");\n",
    "  endfor\n",
    "  for j = 1:2*i-1\n",
    "    z = rand ();\n",
    "     if (z < g)\n",
    "       printf (\"@\");\n",
    "     else\n",
    "       printf (\"*\");\n",
    "     endif\n",
    "  endfor\n",
    "  printf (\"\\n\");\n",
    "endfor\n",
    "printf([char(27), \"[35m\"])\n",
    "for i = 1:H\n",
    "  for j = 1:N-2\n",
    "    printf (\" \");\n",
    "  endfor\n",
    "  printf (\"***\\n\");\n",
    "endfor\n",
    "\n",
    "i = 0;\n",
    "printf([\"\\n\", char(27), \"[34m\"])\n",
    "printf (\"2019\");\n",
    "while (true)\n",
    "  printf([char(27), \"[31m\"])\n",
    "  i = mod (i, 2*N);\n",
    "  for j = 1:i\n",
    "    printf (\" \");\n",
    "  endfor\n",
    "  if (i < 2*N-2)\n",
    "    printf (\"mmmDDD\");\n",
    "  else\n",
    "    printf (\"  2020\");\n",
    "  endif\n",
    "  pause (0.1)\n",
    "  printf([\"\\r\", char(27), \"[34m\"])\n",
    "  printf (\"2019\");\n",
    "  i++;\n",
    "endwhile"
   ]
  }
 ],
 "metadata": {
  "kernelspec": {
   "display_name": "Octave",
   "language": "octave",
   "name": "octave"
  },
  "language_info": {
   "file_extension": ".m",
   "help_links": [
    {
     "text": "GNU Octave",
     "url": "https://www.gnu.org/software/octave/support.html"
    },
    {
     "text": "Octave Kernel",
     "url": "https://github.com/Calysto/octave_kernel"
    },
    {
     "text": "MetaKernel Magics",
     "url": "https://metakernel.readthedocs.io/en/latest/source/README.html"
    }
   ],
   "mimetype": "text/x-octave",
   "name": "octave",
   "version": "5.1.0"
  }
 },
 "nbformat": 4,
 "nbformat_minor": 4
}
