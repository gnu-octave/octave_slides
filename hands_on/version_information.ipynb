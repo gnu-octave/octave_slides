{
 "cells": [
  {
   "cell_type": "markdown",
   "metadata": {},
   "source": [
    "# GNU Octave Options\n",
    "\n",
    "> *Dec 17, 2019 — Kai T. Ohlhus &lt;<k.ohlhus@gmail.com>&gt; — [CC BY 4.0](http://creativecommons.org/licenses/by/4.0/)*"
   ]
  },
  {
   "cell_type": "markdown",
   "metadata": {},
   "source": [
    "## Show the version of GNU Octave and installed packages"
   ]
  },
  {
   "cell_type": "code",
   "execution_count": 1,
   "metadata": {},
   "outputs": [
    {
     "name": "stdout",
     "output_type": "stream",
     "text": [
      "----------------------------------------------------------------------\n",
      "GNU Octave Version: 5.1.0 (hg id: d05d6eebde10)\n",
      "GNU Octave License: GNU General Public License\n",
      "Operating System: Linux 4.12.14-lp151.28.36-default #1 SMP Fri Dec 6 13:50:27 UTC 2019 (8f4a495) x86_64\n",
      "----------------------------------------------------------------------\n",
      "Package Name    | Version | Installation directory\n",
      "----------------+---------+-----------------------\n",
      "       control  |   3.2.0 | /home/siko1056/octave/control-3.2.0\n",
      " generate_html  |   0.3.1 | /home/siko1056/octave/generate_html-0.3.1\n",
      "         image  |  2.10.0 | /home/siko1056/octave/image-2.10.0\n",
      "      interval  |   3.2.0 | /home/siko1056/octave/interval-3.2.0\n",
      "            io  |  2.4.13 | /home/siko1056/octave/io-2.4.13\n",
      "linear-algebra  |   2.2.3 | /home/siko1056/octave/linear-algebra-2.2.3\n",
      "         optim  |   1.6.0 | /home/siko1056/octave/optim-1.6.0\n",
      "      pythonic  |   0.0.1 | /home/siko1056/octave/pythonic-0.0.1\n",
      "        signal  |   1.4.1 | /home/siko1056/octave/signal-1.4.1\n",
      "    statistics  |   1.4.1 | /home/siko1056/octave/statistics-1.4.1\n",
      "        struct  |  1.0.16 | /home/siko1056/octave/struct-1.0.16\n",
      "      symbolic  |   2.8.0 | /home/siko1056/octave/symbolic-2.8.0\n"
     ]
    }
   ],
   "source": [
    "ver"
   ]
  },
  {
   "cell_type": "markdown",
   "metadata": {},
   "source": [
    "## List installed packages"
   ]
  },
  {
   "cell_type": "code",
   "execution_count": 2,
   "metadata": {},
   "outputs": [
    {
     "name": "stdout",
     "output_type": "stream",
     "text": [
      "Package Name    | Version | Installation directory\n",
      "----------------+---------+-----------------------\n",
      "       control  |   3.2.0 | /home/siko1056/octave/control-3.2.0\n",
      " generate_html  |   0.3.1 | /home/siko1056/octave/generate_html-0.3.1\n",
      "         image  |  2.10.0 | /home/siko1056/octave/image-2.10.0\n",
      "      interval  |   3.2.0 | /home/siko1056/octave/interval-3.2.0\n",
      "            io  |  2.4.13 | /home/siko1056/octave/io-2.4.13\n",
      "linear-algebra  |   2.2.3 | /home/siko1056/octave/linear-algebra-2.2.3\n",
      "         optim  |   1.6.0 | /home/siko1056/octave/optim-1.6.0\n",
      "      pythonic  |   0.0.1 | /home/siko1056/octave/pythonic-0.0.1\n",
      "        signal  |   1.4.1 | /home/siko1056/octave/signal-1.4.1\n",
      "    statistics  |   1.4.1 | /home/siko1056/octave/statistics-1.4.1\n",
      "        struct  |  1.0.16 | /home/siko1056/octave/struct-1.0.16\n",
      "      symbolic  |   2.8.0 | /home/siko1056/octave/symbolic-2.8.0\n"
     ]
    }
   ],
   "source": [
    "pkg list"
   ]
  },
  {
   "cell_type": "markdown",
   "metadata": {},
   "source": [
    "## Show BLAS version\n",
    "\n",
    "Unfortunately not 100% reliable, see\n",
    "[bug #57112](https://savannah.gnu.org/bugs/?57112)."
   ]
  },
  {
   "cell_type": "code",
   "execution_count": 3,
   "metadata": {},
   "outputs": [
    {
     "name": "stdout",
     "output_type": "stream",
     "text": [
      "ans = OpenBLAS (config: OpenBLAS 0.3.7  USE64BITINT DYNAMIC_ARCH NO_AFFINITY Haswell MAX_THREADS=8)\n"
     ]
    }
   ],
   "source": [
    "__blas_version__ ()"
   ]
  },
  {
   "cell_type": "markdown",
   "metadata": {},
   "source": [
    "## Display the configuration of the currently used Octave\n",
    "\n",
    "Without argument, all available information is printed by\n",
    "`__octave_config_info__()`.\n",
    "**Please try**, but the output is very verbose."
   ]
  },
  {
   "cell_type": "markdown",
   "metadata": {},
   "source": [
    "- What is the Mercurial (hg) ID of the current build?"
   ]
  },
  {
   "cell_type": "code",
   "execution_count": 4,
   "metadata": {},
   "outputs": [
    {
     "name": "stdout",
     "output_type": "stream",
     "text": [
      "ans = d05d6eebde10\n"
     ]
    }
   ],
   "source": [
    "__octave_config_info__ (\"hg_id\")"
   ]
  },
  {
   "cell_type": "markdown",
   "metadata": {},
   "source": [
    "- Was Octave build with FFTW3 support?"
   ]
  },
  {
   "cell_type": "code",
   "execution_count": 5,
   "metadata": {},
   "outputs": [
    {
     "name": "stdout",
     "output_type": "stream",
     "text": [
      "ans = 1\n"
     ]
    }
   ],
   "source": [
    "__octave_config_info__ (\"FFTW3\")"
   ]
  },
  {
   "cell_type": "markdown",
   "metadata": {},
   "source": [
    "- Which FFTW3 version is used?"
   ]
  },
  {
   "cell_type": "code",
   "execution_count": 6,
   "metadata": {},
   "outputs": [
    {
     "name": "stdout",
     "output_type": "stream",
     "text": [
      "ans = fftw-3.3.6-pl2-sse2-avx\n"
     ]
    }
   ],
   "source": [
    "__octave_config_info__ (\"fftw_version\")"
   ]
  },
  {
   "cell_type": "markdown",
   "metadata": {},
   "source": [
    "- How where the FFTW3 libraries linked to GNU Octave?"
   ]
  },
  {
   "cell_type": "code",
   "execution_count": 7,
   "metadata": {},
   "outputs": [
    {
     "name": "stdout",
     "output_type": "stream",
     "text": [
      "ans = \n",
      "ans = \n",
      "ans = -lfftw3\n"
     ]
    }
   ],
   "source": [
    "__octave_config_info__ (\"FFTW3_CPPFLAGS\")\n",
    "__octave_config_info__ (\"FFTW3_LDFLAGS\")\n",
    "__octave_config_info__ (\"FFTW3_LIBS\")"
   ]
  },
  {
   "cell_type": "code",
   "execution_count": null,
   "metadata": {},
   "outputs": [],
   "source": []
  }
 ],
 "metadata": {
  "kernelspec": {
   "display_name": "Octave",
   "language": "octave",
   "name": "octave"
  },
  "language_info": {
   "file_extension": ".m",
   "help_links": [
    {
     "text": "GNU Octave",
     "url": "https://www.gnu.org/software/octave/support.html"
    },
    {
     "text": "Octave Kernel",
     "url": "https://github.com/Calysto/octave_kernel"
    },
    {
     "text": "MetaKernel Magics",
     "url": "https://metakernel.readthedocs.io/en/latest/source/README.html"
    }
   ],
   "mimetype": "text/x-octave",
   "name": "octave",
   "version": "5.1.0"
  }
 },
 "nbformat": 4,
 "nbformat_minor": 4
}
