{
 "cells": [
  {
   "cell_type": "markdown",
   "metadata": {},
   "source": [
    "# Use GNU Octave in your C++ program\n",
    "\n",
    "> *Dec 18, 2019 — Kai T. Ohlhus &lt;<k.ohlhus@gmail.com>&gt; — [CC BY 4.0](http://creativecommons.org/licenses/by/4.0/)*"
   ]
  },
  {
   "cell_type": "markdown",
   "metadata": {},
   "source": [
    "## Using built-in (C++) Octave functions\n",
    "\n",
    "In case you want to use some Octave function inside **YOUR** C++ program,\n",
    "you can include Octave code, just like any other programming library.\n",
    "\n",
    "The easiest way is to include so-called \"built-in\" functions,\n",
    "as they are also written in C++.\n",
    "**No interpretation of m-code** is necessary\n",
    "and convenient data structures like `Matrix` are available to your program.\n",
    "\n",
    "To find out, if an Octave function was built-in.  Just call, for example,"
   ]
  },
  {
   "cell_type": "code",
   "execution_count": 1,
   "metadata": {},
   "outputs": [
    {
     "name": "stdout",
     "output_type": "stream",
     "text": [
      "'norm' is a built-in function from the file libinterp/corefcn/data.cc\n"
     ]
    }
   ],
   "source": [
    "which norm"
   ]
  },
  {
   "cell_type": "markdown",
   "metadata": {},
   "source": [
    "in contrast to"
   ]
  },
  {
   "cell_type": "code",
   "execution_count": null,
   "metadata": {},
   "outputs": [],
   "source": [
    "which normest"
   ]
  },
  {
   "cell_type": "markdown",
   "metadata": {},
   "source": [
    "that is treated in the second part of this notebook.\n",
    "\n",
    "In general, we wan"
   ]
  },
  {
   "cell_type": "code",
   "execution_count": 2,
   "metadata": {},
   "outputs": [
    {
     "name": "stdout",
     "output_type": "stream",
     "text": [
      "A =\n",
      "\n",
      "   11   12\n",
      "   21   22\n",
      "\n",
      "ans =  34.495\n"
     ]
    }
   ],
   "source": [
    "A = [11, 12; ...\n",
    "     21, 22]\n",
    "norm (A)"
   ]
  },
  {
   "cell_type": "code",
   "execution_count": 3,
   "metadata": {},
   "outputs": [
    {
     "name": "stdout",
     "output_type": "stream",
     "text": [
      "#include <iostream>\n",
      "#include <octave/oct.h>\n",
      "#include <octave/builtin-defun-decls.h>\n",
      "\n",
      "int main () {\n",
      "  int n = 2;\n",
      "  Matrix A = Matrix (n, n);\n",
      "\n",
      "  // Fill matrix\n",
      "  for (octave_idx_type i = 0; i < n; i++) {\n",
      "    for (octave_idx_type j = 0; j < n; j++) {\n",
      "      A(i,j) = (i + 1) * 10 + (j + 1);\n",
      "    }\n",
      "  }\n",
      "\n",
      "  // Compute matrix norm\n",
      "  octave_value_list out = Fnorm (ovl (A), 1);\n",
      "\n",
      "  // Output results\n",
      "  std::cout << \"Matrix A:\"            << std::endl\n",
      "            << A                      << std::endl\n",
      "            << \"norm (A) = \"\n",
      "            << out(0).double_value () << std::endl;\n",
      "\n",
      "  return 0;\n",
      "}\n",
      "\n"
     ]
    }
   ],
   "source": [
    "type functions/standalone_builtin.cc"
   ]
  },
  {
   "cell_type": "code",
   "execution_count": 4,
   "metadata": {},
   "outputs": [],
   "source": [
    "!mkoctfile --link-stand-alone functions/standalone_builtin.cc -o standalone_builtin.exe"
   ]
  },
  {
   "cell_type": "code",
   "execution_count": 5,
   "metadata": {},
   "outputs": [
    {
     "name": "stdout",
     "output_type": "stream",
     "text": [
      "\tlinux-vdso.so.1 (0x00007ffdfd3df000)\n",
      "\tliboctinterp.so.7 => not found\n",
      "\tliboctave.so.7 => not found\n",
      "\tlibstdc++.so.6 => /usr/lib64/libstdc++.so.6 (0x00007fb04514f000)\n",
      "\tlibm.so.6 => /lib64/libm.so.6 (0x00007fb044e17000)\n",
      "\tlibgomp.so.1 => /usr/lib64/libgomp.so.1 (0x00007fb044be7000)\n",
      "\tlibgcc_s.so.1 => /lib64/libgcc_s.so.1 (0x00007fb0449cf000)\n",
      "\tlibpthread.so.0 => /lib64/libpthread.so.0 (0x00007fb0447b1000)\n",
      "\tlibc.so.6 => /lib64/libc.so.6 (0x00007fb0443f7000)\n",
      "\t/lib64/ld-linux-x86-64.so.2 (0x00007fb0454d9000)\n",
      "\tlibdl.so.2 => /lib64/libdl.so.2 (0x00007fb0441f3000)\n",
      "\n"
     ]
    }
   ],
   "source": [
    "!ldd ./standalone_builtin.exe"
   ]
  },
  {
   "cell_type": "code",
   "execution_count": 6,
   "metadata": {},
   "outputs": [
    {
     "name": "stdout",
     "output_type": "stream",
     "text": [
      "/home/siko1056/work/octave/GNU-Octave-enable-64/install/lib/octave/5.1.0/::/usr/local/cuda-10.1/lib64:/usr/local/cuda-10.1/lib64:/usr/local/cuda-10.1/lib64\n",
      "\n"
     ]
    }
   ],
   "source": [
    "![[ \":$LD_LIBRARY_PATH:\" != *\":/home/siko1056/work/octave/GNU-Octave-enable-64/install/lib/octave/5.1.0/:\"* ]] && export LD_LIBRARY_PATH=\"/home/siko1056/work/octave/GNU-Octave-enable-64/install/lib/octave/5.1.0/:${LD_LIBRARY_PATH}\"\n",
    "!echo \"$LD_LIBRARY_PATH\""
   ]
  },
  {
   "cell_type": "code",
   "execution_count": 7,
   "metadata": {},
   "outputs": [
    {
     "name": "stdout",
     "output_type": "stream",
     "text": [
      "Matrix A:\n",
      " 11 12\n",
      " 21 22\n",
      "\n",
      "norm (A) = 34.4952\n",
      "\n"
     ]
    }
   ],
   "source": [
    "!./standalone_builtin.exe"
   ]
  },
  {
   "cell_type": "markdown",
   "metadata": {},
   "source": [
    "## Using ANY Octave function"
   ]
  },
  {
   "cell_type": "code",
   "execution_count": 8,
   "metadata": {},
   "outputs": [
    {
     "name": "stdout",
     "output_type": "stream",
     "text": [
      "#include <iostream>\n",
      "#include <octave/oct.h>\n",
      "#include <octave/octave.h>\n",
      "#include <octave/parse.h>\n",
      "#include <octave/interpreter.h>\n",
      "\n",
      "int main (void) {\n",
      "  int n = 2;\n",
      "  Matrix A = Matrix (n, n);\n",
      "\n",
      "  // Fill matrix\n",
      "  for (octave_idx_type i = 0; i < n; i++) {\n",
      "    for (octave_idx_type j = 0; j < n; j++) {\n",
      "      A(i,j) = (i + 1) * 10 + (j + 1);\n",
      "    }\n",
      "  }\n",
      "\n",
      "  octave::interpreter interpreter;\n",
      "  octave_value_list out;\n",
      "\n",
      "  try {\n",
      "    int status = interpreter.execute ();\n",
      "    if (status != 0) {\n",
      "      std::cerr << \"An error occurred!\" << std::endl;\n",
      "      return status;\n",
      "    }\n",
      "\n",
      "    out = octave::feval (\"normest\", ovl (A), 1);\n",
      "\n",
      "  } catch (const octave::exit_exception& ex) {\n",
      "    std::cerr << \"Octave interpreter exited with status = \"\n",
      "              << ex.exit_status () << std::endl;\n",
      "  } catch (const octave::execution_exception&) {\n",
      "    std::cerr << \"An error encountered in Octave evaluator!\" << std::endl;\n",
      "  }\n",
      "\n",
      "  // Output results\n",
      "  std::cout << \"Matrix A:\"            << std::endl\n",
      "            << A                      << std::endl\n",
      "            << \"normest (A) = \"\n",
      "            << out(0).double_value () << std::endl;\n",
      "\n",
      "  return 0;\n",
      "}\n",
      "\n"
     ]
    }
   ],
   "source": [
    "type functions/standalone_embedded.cc"
   ]
  },
  {
   "cell_type": "code",
   "execution_count": 9,
   "metadata": {},
   "outputs": [],
   "source": [
    "!mkoctfile --link-stand-alone functions/standalone_embedded.cc -o standalone_embedded.exe"
   ]
  },
  {
   "cell_type": "code",
   "execution_count": 12,
   "metadata": {},
   "outputs": [
    {
     "name": "stdout",
     "output_type": "stream",
     "text": [
      "Matrix A:\n",
      " 11 12\n",
      " 21 22\n",
      "\n",
      "normest (A) = 34.4952\n",
      "\n"
     ]
    }
   ],
   "source": [
    "!./standalone_embedded.exe"
   ]
  },
  {
   "cell_type": "code",
   "execution_count": null,
   "metadata": {},
   "outputs": [],
   "source": []
  }
 ],
 "metadata": {
  "kernelspec": {
   "display_name": "Octave",
   "language": "octave",
   "name": "octave"
  },
  "language_info": {
   "file_extension": ".m",
   "help_links": [
    {
     "text": "GNU Octave",
     "url": "https://www.gnu.org/software/octave/support.html"
    },
    {
     "text": "Octave Kernel",
     "url": "https://github.com/Calysto/octave_kernel"
    },
    {
     "text": "MetaKernel Magics",
     "url": "https://metakernel.readthedocs.io/en/latest/source/README.html"
    }
   ],
   "mimetype": "text/x-octave",
   "name": "octave",
   "version": "5.1.0"
  }
 },
 "nbformat": 4,
 "nbformat_minor": 4
}
