{
 "cells": [
  {
   "cell_type": "markdown",
   "metadata": {},
   "source": [
    "# Use GNU Octave in your C++ program\n",
    "\n",
    "> *Dec 20, 2019 — Kai T. Ohlhus &lt;<k.ohlhus@gmail.com>&gt; — [CC BY 4.0](http://creativecommons.org/licenses/by/4.0/)*"
   ]
  },
  {
   "cell_type": "markdown",
   "metadata": {},
   "source": [
    "## Using built-in (C++) Octave functions\n",
    "\n",
    "In case you want to use some Octave function inside **YOUR** C++ program,\n",
    "Octave can be included, just like any other programming library.\n",
    "\n",
    "![img](data/octave_c_cpp_fortran_3.svg)\n",
    "\n",
    "The easiest task is to include so-called \"built-in\" functions,\n",
    "as they are written in C++, too.\n",
    "**No interpretation of m-code** is necessary.\n",
    "Additionally, convenient data structures,\n",
    "such as `Matrix`,\n",
    "are available to your program.\n",
    "\n",
    "To find out, if an Octave function is built-in.  Just call, for example:"
   ]
  },
  {
   "cell_type": "code",
   "execution_count": 1,
   "metadata": {},
   "outputs": [
    {
     "name": "stdout",
     "output_type": "stream",
     "text": [
      "'norm' is a built-in function from the file libinterp/corefcn/data.cc\n"
     ]
    }
   ],
   "source": [
    "which norm"
   ]
  },
  {
   "cell_type": "markdown",
   "metadata": {},
   "source": [
    "On the other hand, there are \"built-in\" functions defined in Octave's language\n",
    "(**m-code/m-files**):"
   ]
  },
  {
   "cell_type": "code",
   "execution_count": 2,
   "metadata": {},
   "outputs": [
    {
     "name": "stdout",
     "output_type": "stream",
     "text": [
      "'normest' is a function from the file /usr/local/share/octave/5.1.0/m/linear-algebra/normest.m\n"
     ]
    }
   ],
   "source": [
    "which normest"
   ]
  },
  {
   "cell_type": "markdown",
   "metadata": {},
   "source": [
    "Calling m-files from your C++ program will be explained in the next section\n",
    "of this notebook.\n",
    "\n",
    "In the following example,\n",
    "the norm of some Matrix $A$ shall be computed.\n",
    "In Octave the code is as simple as:"
   ]
  },
  {
   "cell_type": "code",
   "execution_count": 3,
   "metadata": {},
   "outputs": [
    {
     "name": "stdout",
     "output_type": "stream",
     "text": [
      "A =\n",
      "\n",
      "   11   12\n",
      "   21   22\n",
      "\n",
      "ans =  34.495\n"
     ]
    }
   ],
   "source": [
    "A = [11, 12; ...\n",
    "     21, 22]\n",
    "norm (A)"
   ]
  },
  {
   "cell_type": "markdown",
   "metadata": {},
   "source": [
    "But for the sake of demonstration,\n",
    "this computation shall be performed in the following standalone C++ program."
   ]
  },
  {
   "cell_type": "code",
   "execution_count": 4,
   "metadata": {},
   "outputs": [
    {
     "name": "stdout",
     "output_type": "stream",
     "text": [
      "#include <iostream>\n",
      "#include <octave/oct.h>\n",
      "#include <octave/builtin-defun-decls.h>\n",
      "\n",
      "int main () {\n",
      "  Matrix A(2, 2);\n",
      "\n",
      "  // Fill matrix\n",
      "  for (auto j = 0; j < A.columns (); j++) {\n",
      "    for (auto i = 0; i <  A.rows (); i++) {\n",
      "      A(i,j) = (i + 1) * 10 + (j + 1);\n",
      "    }\n",
      "  }\n",
      "\n",
      "  // Compute matrix norm\n",
      "  octave_value_list out = Fnorm (ovl (A), 1);\n",
      "\n",
      "  // Output results\n",
      "  std::cout << \"Matrix A:\"            << std::endl\n",
      "            << A                      << std::endl\n",
      "            << \"norm (A) = \"\n",
      "            << out(0).double_value () << std::endl;\n",
      "\n",
      "  return 0;\n",
      "}\n",
      "\n"
     ]
    }
   ],
   "source": [
    "type functions/standalone_builtin.cc"
   ]
  },
  {
   "cell_type": "markdown",
   "metadata": {},
   "source": [
    "GNU Octave ships with a convenient wrapper program for the system's compiler,\n",
    "called `mkoctfile`,\n",
    "to ensure all necessary compiler options.\n",
    "\n",
    "In this particular case,\n",
    "the option `--link-stand-alone` has to be passed to ensure\n",
    "that all dependencies are linked to the resulting binary.\n",
    "By default `mkoctfile` assumes to compile oct-files,\n",
    "which are run from within Octave.\n",
    "In the latter case,\n",
    "all necessary libraries are already loaded by Octave itself."
   ]
  },
  {
   "cell_type": "code",
   "execution_count": 5,
   "metadata": {},
   "outputs": [],
   "source": [
    "mkoctfile --link-stand-alone functions/standalone_builtin.cc -o standalone_builtin.exe"
   ]
  },
  {
   "cell_type": "markdown",
   "metadata": {},
   "source": [
    "In this particular **Linux** + JuputerLab setup,\n",
    "GNU Octave is run inside a lightweight and portable\n",
    "[Singularity](https://sylabs.io/singularity/) container.\n",
    "This means that the shared libraries are not visible to \"the outside world\".\n",
    "\n",
    "Especially, if you run the resulting executable outside the context of the\n",
    "GNU Octave Singularity container, you will receive errors.\n",
    "If you are familiar with IPython or Jupyter, prepending an exclamation mark `!`\n",
    "executes the following statement as system command\n",
    "and does not use the notebooks kernel (here GNU Octave) to evaluate it."
   ]
  },
  {
   "cell_type": "code",
   "execution_count": 6,
   "metadata": {},
   "outputs": [
    {
     "name": "stdout",
     "output_type": "stream",
     "text": [
      "./standalone_builtin.exe: error while loading shared libraries: liboctinterp.so.7: cannot open shared object file: No such file or directory\n",
      "\n"
     ]
    }
   ],
   "source": [
    "!./standalone_builtin.exe"
   ]
  },
  {
   "cell_type": "markdown",
   "metadata": {},
   "source": [
    "To investigate problems with shared libraries, the **Linux** tool `ldd` is very handy."
   ]
  },
  {
   "cell_type": "code",
   "execution_count": 7,
   "metadata": {},
   "outputs": [
    {
     "name": "stdout",
     "output_type": "stream",
     "text": [
      "\tlinux-vdso.so.1 (0x00007ffe3a34c000)\n",
      "\tliboctinterp.so.7 => not found\n",
      "\tliboctave.so.7 => not found\n",
      "\tlibstdc++.so.6 => /usr/lib64/libstdc++.so.6 (0x00007fe1b7c1b000)\n",
      "\tlibgcc_s.so.1 => /lib64/libgcc_s.so.1 (0x00007fe1b7a03000)\n",
      "\tlibc.so.6 => /lib64/libc.so.6 (0x00007fe1b7649000)\n",
      "\tlibm.so.6 => /lib64/libm.so.6 (0x00007fe1b7311000)\n",
      "\t/lib64/ld-linux-x86-64.so.2 (0x00007fe1b81ab000)\n",
      "\n"
     ]
    }
   ],
   "source": [
    "!ldd standalone_builtin.exe"
   ]
  },
  {
   "cell_type": "markdown",
   "metadata": {},
   "source": [
    "By using Octave's\n",
    "[`system`-command](https://octave.org/doc/v5.1.0/XREFsystem.html),\n",
    "one can easily get around this issue for this particular setup.\n",
    "Thus `system (\"ldd standalone_builtin.exe\")` will succeed,\n",
    "but the verbose output is ommitted here.\n",
    "\n",
    "Finally, we successfully make use of Octave's `norm()`-functions from\n",
    "within **our own C++-Program** without any interpreter overhead!\n",
    "\n",
    "**MS Windows** users have to remove the `./`-prefix."
   ]
  },
  {
   "cell_type": "code",
   "execution_count": 8,
   "metadata": {},
   "outputs": [
    {
     "name": "stdout",
     "output_type": "stream",
     "text": [
      "Matrix A:\n",
      " 11 12\n",
      " 21 22\n",
      "\n",
      "norm (A) = 34.4952\n",
      "ans = 0\n"
     ]
    }
   ],
   "source": [
    "system (\"./standalone_builtin.exe\")"
   ]
  },
  {
   "cell_type": "markdown",
   "metadata": {},
   "source": [
    "Just one final note to get this right.\n",
    "We have to use Octave's `system`-command inside this Jupyter-notebook to\n",
    "invoke `standalone_builtin.exe` correctly.\n",
    "In a different setup, without JupyterLab, one can simply run the executable\n",
    "file without any interaction of the Octave interpreter."
   ]
  },
  {
   "cell_type": "markdown",
   "metadata": {},
   "source": [
    "## Using ANY Octave function\n",
    "\n",
    "For some reason,\n",
    "we want to additionally run some m-file inside our own C++-program.\n",
    "\n",
    "In the previous example, this was the `normest()`-function."
   ]
  },
  {
   "cell_type": "code",
   "execution_count": 9,
   "metadata": {},
   "outputs": [
    {
     "name": "stdout",
     "output_type": "stream",
     "text": [
      "'normest' is a function from the file /usr/local/share/octave/5.1.0/m/linear-algebra/normest.m\n"
     ]
    }
   ],
   "source": [
    "which normest"
   ]
  },
  {
   "cell_type": "markdown",
   "metadata": {},
   "source": [
    "As C++ is not able to understand m-code.\n",
    "We need to instantiate the `octave::interpreter` to help us doing this job.\n",
    "\n",
    "![img](data/octave_c_cpp_fortran_4.svg)\n",
    "\n",
    "Octave is not a compiled language.\n",
    "Thus most errors will occur when executing the m-code.\n",
    "For this reason it is safer to interpret m-code inside a `try...catch`-statement\n",
    "and to add some exception handling.\n",
    "\n",
    "The following code looks a little bit bloated,\n",
    "as we effectively only want to execute a single line of C++-code.\n",
    "But as said beforehand, most of the code is just added for precaution.\n",
    "If you do not care about safety or are a perfect programmer by nature,\n",
    "just three lines of code, shown in the figure above, are absolutely necessary."
   ]
  },
  {
   "cell_type": "code",
   "execution_count": 10,
   "metadata": {},
   "outputs": [
    {
     "name": "stdout",
     "output_type": "stream",
     "text": [
      "#include <iostream>\n",
      "#include <octave/oct.h>\n",
      "#include <octave/octave.h>\n",
      "#include <octave/parse.h>\n",
      "#include <octave/interpreter.h>\n",
      "\n",
      "int main (void) {\n",
      "  Matrix A(2, 2);\n",
      "\n",
      "  // Fill matrix\n",
      "  for (auto j = 0; j < A.columns (); j++) {\n",
      "    for (auto i = 0; i <  A.rows (); i++) {\n",
      "      A(i,j) = (i + 1) * 10 + (j + 1);\n",
      "    }\n",
      "  }\n",
      "\n",
      "  octave::interpreter interpreter;\n",
      "  octave_value_list out;\n",
      "\n",
      "  try {\n",
      "    int status = interpreter.execute ();\n",
      "    if (status != 0) {\n",
      "      std::cerr << \"An error occurred!\" << std::endl;\n",
      "      return status;\n",
      "    }\n",
      "\n",
      "    out = octave::feval (\"normest\", ovl (A), 1);\n",
      "\n",
      "  } catch (const octave::exit_exception& ex) {\n",
      "    std::cerr << \"Octave interpreter exited with status = \"\n",
      "              << ex.exit_status () << std::endl;\n",
      "  } catch (const octave::execution_exception&) {\n",
      "    std::cerr << \"An error encountered in Octave evaluator!\" << std::endl;\n",
      "  }\n",
      "\n",
      "  // Output results\n",
      "  std::cout << \"Matrix A:\"            << std::endl\n",
      "            << A                      << std::endl\n",
      "            << \"normest (A) = \"\n",
      "            << out(0).double_value () << std::endl;\n",
      "\n",
      "  return 0;\n",
      "}\n",
      "\n"
     ]
    }
   ],
   "source": [
    "type functions/standalone_embedded.cc"
   ]
  },
  {
   "cell_type": "markdown",
   "metadata": {},
   "source": [
    "Finally, we compile and run the example:"
   ]
  },
  {
   "cell_type": "code",
   "execution_count": 11,
   "metadata": {},
   "outputs": [],
   "source": [
    "mkoctfile --link-stand-alone functions/standalone_embedded.cc -o standalone_embedded.exe"
   ]
  },
  {
   "cell_type": "markdown",
   "metadata": {},
   "source": [
    "**MS Windows** users have to remove the `./`-prefix."
   ]
  },
  {
   "cell_type": "code",
   "execution_count": 12,
   "metadata": {},
   "outputs": [
    {
     "name": "stdout",
     "output_type": "stream",
     "text": [
      "Matrix A:\n",
      " 11 12\n",
      " 21 22\n",
      "\n",
      "normest (A) = 34.4952\n",
      "ans = 0\n"
     ]
    }
   ],
   "source": [
    "system (\"./standalone_embedded.exe\")"
   ]
  },
  {
   "cell_type": "code",
   "execution_count": null,
   "metadata": {},
   "outputs": [],
   "source": []
  }
 ],
 "metadata": {
  "kernelspec": {
   "display_name": "Octave",
   "language": "octave",
   "name": "octave"
  },
  "language_info": {
   "file_extension": ".m",
   "help_links": [
    {
     "text": "GNU Octave",
     "url": "https://www.gnu.org/software/octave/support.html"
    },
    {
     "text": "Octave Kernel",
     "url": "https://github.com/Calysto/octave_kernel"
    },
    {
     "text": "MetaKernel Magics",
     "url": "https://metakernel.readthedocs.io/en/latest/source/README.html"
    }
   ],
   "mimetype": "text/x-octave",
   "name": "octave",
   "version": "5.1.0"
  }
 },
 "nbformat": 4,
 "nbformat_minor": 4
}
