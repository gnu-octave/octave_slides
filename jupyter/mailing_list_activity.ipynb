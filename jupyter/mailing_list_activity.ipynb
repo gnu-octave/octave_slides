{
 "cells": [
  {
   "cell_type": "markdown",
   "metadata": {},
   "source": [
    "# Investigating the GNU Octave mailing-list activity\n",
    "\n",
    "> *Nov 01, 2019 — Kai T. Ohlhus &lt;<k.ohlhus@gmail.com>&gt; — [CC BY 4.0](http://creativecommons.org/licenses/by/4.0/)*\n",
    "\n",
    "This Jupyter-Octave-Notebook is inspired by the\n",
    "[opening talk](https://indico.cern.ch/event/626097/contributions/2902420/attachments/1615292/2566811/2018-03-12-octave.pdf)\n",
    "of John W. Eaton at the [OctConf 2018](https://wiki.octave.org/OctConf_2018)\n",
    "at CERN in Geneva, Switzerland.\n",
    "The outline is as follows:\n",
    "\n",
    "1. [Crawl](https://en.wikipedia.org/wiki/Web_crawler) the Octave mailing-list\n",
    "   archives at *gnu.org* to get the number of emails per month.\n",
    "2. Present the data graphically.\n",
    "3. Show a correlation between peaks in mailing-list and Octave releases.\n",
    "\n",
    "A selection of utilized functions and links to the Manual are given in the\n",
    "[final section](#Final-remarks)."
   ]
  },
  {
   "cell_type": "markdown",
   "metadata": {},
   "source": [
    "## Define investigation parameter"
   ]
  },
  {
   "cell_type": "code",
   "execution_count": 1,
   "metadata": {},
   "outputs": [],
   "source": [
    "base_url = \"https://lists.gnu.org/archive/html\";\n",
    "lists    = {\"help-octave\", \"octave-maintainers\", \"octave-bug-tracker\"};\n",
    "[this_year, ~] = datevec (now ());\n",
    "years          = 1992:this_year;"
   ]
  },
  {
   "cell_type": "markdown",
   "metadata": {},
   "source": [
    "## Getting data from gnu.org\n",
    "\n",
    "Basically, the Octave mailing-list archives at *gnu.org* are only crawled on the\n",
    "first run of this Notebook.\n",
    "The results are cached in a file `mailing_list_activity.mat`.\n",
    "On a usual PC with moderate fast internet connection,\n",
    "running this section for the first time takes about **25 minutes**\n",
    "for $3 \\times 28 \\times 12 = 1008$ (partially unneccesary) web requests.\n",
    "This makes about 0.67 requests per second and there is lots of potential for improvment,\n",
    "which will not be addressed here."
   ]
  },
  {
   "cell_type": "markdown",
   "metadata": {},
   "source": [
    "According to the current implementation of the mailing-list archives,\n",
    "a sequence of URLs\n",
    "* https://lists.gnu.org/archive/html/help-octave/1993-01\n",
    "* https://lists.gnu.org/archive/html/help-octave/1993-02\n",
    "* ...\n",
    "\n",
    "is generated.\n",
    "The repective page source code is read into a string by `urlread`.\n",
    "Finally, in that string an email is counted by finding a starting HTML `<li>`- and `<a>`-tag."
   ]
  },
  {
   "cell_type": "code",
   "execution_count": 2,
   "metadata": {},
   "outputs": [],
   "source": [
    "data_file = \"mailing_list_activity.mat\";\n",
    "if (exist (data_file, \"file\") == 2)\n",
    "  load (data_file, \"activity\");     # Use cache if possible\n",
    "else\n",
    "  M = length (lists);\n",
    "  N = length (years);\n",
    "  activity = zeros (M, N * 12);\n",
    "  tic;\n",
    "  for i = 1:M           # For all mailing-lists\n",
    "    list_url = sprintf (\"%s/%s/\", base_url, lists{i});\n",
    "    for j = 1:N         # For each year\n",
    "      for month = 1:12  # For each month\n",
    "        tick = sprintf (\"%d-%02d\", years(j), month)\n",
    "        try\n",
    "          html = urlread ([list_url, tick]);\n",
    "          activity(i, (j-1)*12 + month) = length (strfind (html, \"<li><a\"));\n",
    "        catch\n",
    "          printf (\"  No data for %s.\\n\", tick);\n",
    "        end_try_catch\n",
    "      endfor\n",
    "    endfor\n",
    "  endfor\n",
    "  elapsed_time = toc\n",
    "  save (data_file, \"activity\");\n",
    "endif"
   ]
  },
  {
   "cell_type": "markdown",
   "metadata": {},
   "source": [
    "To get an idea of the data, one can easily display a portion of it.\n",
    "Using the statement below, the data for **July to December** of the **current year** is shown.\n",
    "The first row displays a numeric value for the month.\n",
    "The second to last row show the number of emails of the respective mailing-lists\n",
    "*help-octave@gnu.org*, *octave-maintainers@gnu.org*, and *octave-bug-tracker@gnu.org*.\n",
    "As expected, there is no data for November and December available yet."
   ]
  },
  {
   "cell_type": "code",
   "execution_count": 3,
   "metadata": {},
   "outputs": [
    {
     "name": "stdout",
     "output_type": "stream",
     "text": [
      "     7     8     9    10    11    12\n",
      "   171   178   143   296     0     0\n",
      "    65    87    98   172     0     0\n",
      "   372   341   429   649     0     0\n"
     ]
    }
   ],
   "source": [
    "disp ([7:12; activity(:,end-5:end)])"
   ]
  },
  {
   "cell_type": "markdown",
   "metadata": {},
   "source": [
    "## Present the data graphically\n",
    "\n",
    "[\"A picture is worth a thousand words\"](https://en.wikipedia.org/wiki/A_picture_is_worth_a_thousand_words).\n",
    "This is often true in science, as well.\n",
    "Presenting data graphically sometimes reveals patterns that are not obvious from the bare figures.\n",
    "GNU Octave has many built-in functions to do this.\n",
    "A bare minimum of necessary code to visualize the `activity`-matrix might be:"
   ]
  },
  {
   "cell_type": "code",
   "execution_count": 4,
   "metadata": {},
   "outputs": [
    {
     "data": {
      "image/png": "[encoded data removed]",
      "text/plain": [
       "<IPython.core.display.Image object>"
      ]
     },
     "metadata": {},
     "output_type": "display_data"
    }
   ],
   "source": [
    "x_ticks = 1:size (activity, 2);\n",
    "plot (x_ticks, activity(1,:), ...\n",
    "      x_ticks, activity(2,:), ...\n",
    "      x_ticks, activity(3,:))\n",
    "legend (lists);"
   ]
  },
  {
   "cell_type": "markdown",
   "metadata": {},
   "source": [
    "To tune the figure for a publication, the following modifications are performed:\n",
    "\n",
    "1. Smoothing the graphs by applying a five-month\n",
    "   [moving average](https://en.wikipedia.org/wiki/Moving_average).\n",
    "   Note, that this operation also removes peak values, like `activity_max`."
   ]
  },
  {
   "cell_type": "code",
   "execution_count": 5,
   "metadata": {},
   "outputs": [
    {
     "name": "stdout",
     "output_type": "stream",
     "text": [
      "activity_max =  1710\n"
     ]
    }
   ],
   "source": [
    "activity_max = max (max (activity))\n",
    "activity     = movmean (activity, 5, 2, \"endpoints\", \"shrink\");"
   ]
  },
  {
   "cell_type": "markdown",
   "metadata": {},
   "source": [
    "2. Increasing the line width."
   ]
  },
  {
   "cell_type": "code",
   "execution_count": 6,
   "metadata": {},
   "outputs": [],
   "source": [
    "set (0, \"DefaultLineLineWidth\", 4);"
   ]
  },
  {
   "cell_type": "markdown",
   "metadata": {},
   "source": [
    "3. Creating a meaningful x-axis consisting of date values.\n",
    "   This is done in combination with the `datetick(\"x\")` function."
   ]
  },
  {
   "cell_type": "code",
   "execution_count": 7,
   "metadata": {},
   "outputs": [],
   "source": [
    "x_ticks = arrayfun (@(x,y) datenum(x, y, 01), ...\n",
    "                           repelem(years, 12), ...\n",
    "                           repmat(1:12, 1, length (years)));"
   ]
  },
  {
   "cell_type": "markdown",
   "metadata": {},
   "source": [
    "4. Changing the graph colors,\n",
    "   increasing the font sizes,\n",
    "   reposition the legend, and\n",
    "   add verbose axis labels.\n",
    "   Finally, the figure is printed (exported) to a PNG-image."
   ]
  },
  {
   "cell_type": "code",
   "execution_count": 8,
   "metadata": {},
   "outputs": [
    {
     "data": {
      "image/png": "[encoded data removed]",
      "text/plain": [
       "<IPython.core.display.Image object>"
      ]
     },
     "metadata": {},
     "output_type": "display_data"
    }
   ],
   "source": [
    "plot (x_ticks, activity(1,:), \"b\", ...\n",
    "      x_ticks, activity(2,:), \"r\", ...\n",
    "      x_ticks, activity(3,:), \"k\");\n",
    "datetick (\"x\");\n",
    "set (gca (), \"FontSize\", 12);\n",
    "legend (lists, \"location\", \"northwest\");\n",
    "xlabel (\"Considered years.\");\n",
    "ylabel (\"Number of emails (5-month moving average).\");\n",
    "\n",
    "print -dpng mailing_list_activity"
   ]
  },
  {
   "cell_type": "markdown",
   "metadata": {},
   "source": [
    "## Correlation to Octave releases\n",
    "\n",
    "Especially the [Octave bug tracker](https://savannah.gnu.org/bugs/?group=octave),\n",
    "launched in 2010, shows a very striking wave pattern.\n",
    "John W. Eaton gave an explanation, by looking at the dates of\n",
    "[Octave releases](https://wiki.octave.org/Release_History)."
   ]
  },
  {
   "cell_type": "code",
   "execution_count": 9,
   "metadata": {},
   "outputs": [],
   "source": [
    "x = [datenum(2019, 02, 23), ... # 5.1.0\n",
    "     datenum(2018, 04, 30), ... # 4.4.0\n",
    "     datenum(2016, 11, 13), ... # 4.2.0\n",
    "     datenum(2015, 05, 23), ... # 4.0.0 (GUI)\n",
    "     datenum(2013, 12, 27)];    # 3.8.0"
   ]
  },
  {
   "cell_type": "markdown",
   "metadata": {},
   "source": [
    "To get a better impression, one can shrink the considered years from 2010 to this year"
   ]
  },
  {
   "cell_type": "code",
   "execution_count": 10,
   "metadata": {},
   "outputs": [],
   "source": [
    "idx = find (activity(3,:), 1):length (x_ticks);\n",
    "max_val = max( max (activity));"
   ]
  },
  {
   "cell_type": "markdown",
   "metadata": {},
   "source": [
    "and mark the release dates:"
   ]
  },
  {
   "cell_type": "code",
   "execution_count": 11,
   "metadata": {},
   "outputs": [
    {
     "data": {
      "image/png": "[encoded data removed]",
      "text/plain": [
       "<IPython.core.display.Image object>"
      ]
     },
     "metadata": {},
     "output_type": "display_data"
    }
   ],
   "source": [
    "plot (x_ticks(idx), activity(1,idx), \"b\", ...\n",
    "      x_ticks(idx), activity(2,idx), \"r\", ...\n",
    "      x_ticks(idx), activity(3,idx), \"k\");\n",
    "datetick (\"x\");\n",
    "set (gca (), \"FontSize\", 12);\n",
    "legend (lists, \"location\", \"northwest\");\n",
    "xlabel (\"Considered years.\");\n",
    "ylabel (\"Number of emails (5-month moving average).\");\n",
    "\n",
    "hold on;\n",
    "plot (repmat (x, 2, 1), ...\n",
    "      repmat ([0; max_val], 1, length (x)), \"m\");\n",
    "text (x(4) - 150, max_val + 50, \"4.0.0 (GUI)\", ...\n",
    "      \"color\", \"magenta\", \"fontsize\", 12);"
   ]
  },
  {
   "cell_type": "markdown",
   "metadata": {},
   "source": [
    "A possible explanation goes like this:\n",
    "* Before an Octave release happens, there usually is an\n",
    "  [announcement](https://lists.gnu.org/archive/html/octave-maintainers/2018-12/msg00000.html)\n",
    "  on *octave-maintainers@gnu.org*.\n",
    "* Now people want their open bugs to be resolved even sooner.\n",
    "* After the release happened, some regressions reveal,\n",
    "  as the new release is now tested on many many more systems and configurations,\n",
    "  than before."
   ]
  },
  {
   "cell_type": "markdown",
   "metadata": {},
   "source": [
    "## Final remarks\n",
    "\n",
    "A selection of utilized functions and links to the Manual:\n",
    "\n",
    "* `arrayfun()`\n",
    "  https://octave.org/doc/v5.1.0/Function-Application.html\n",
    "* `legend()`, `plot()`\n",
    "  https://octave.org/doc/v5.1.0/Two_002dDimensional-Plots.html and\n",
    "  https://octave.org/doc/v5.1.0/Graphics-Object-Properties.html\n",
    "* `set(0, ...)`\n",
    "  https://octave.org/doc/v5.1.0/Managing-Default-Properties.html\n",
    "* `urlread()`\n",
    "  https://octave.org/doc/v5.1.0/Networking-Utilities.html\n",
    "* `load()`, `save()`\n",
    "  https://octave.org/doc/v5.1.0/Simple-File-I_002fO.html\n",
    "* `movmean()`\n",
    "  https://octave.org/doc/v5.1.0/Statistics.html\n",
    "* `tic .. toc`, `datenum()`, `datetick()`, `datevec()`, `now()`\n",
    "  https://octave.org/doc/v5.1.0/Timing-Utilities.html"
   ]
  },
  {
   "cell_type": "code",
   "execution_count": null,
   "metadata": {},
   "outputs": [],
   "source": []
  }
 ],
 "metadata": {
  "kernelspec": {
   "display_name": "Octave",
   "language": "octave",
   "name": "octave"
  },
  "language_info": {
   "file_extension": ".m",
   "help_links": [
    {
     "text": "GNU Octave",
     "url": "https://www.gnu.org/software/octave/support.html"
    },
    {
     "text": "Octave Kernel",
     "url": "https://github.com/Calysto/octave_kernel"
    },
    {
     "text": "MetaKernel Magics",
     "url": "https://metakernel.readthedocs.io/en/latest/source/README.html"
    }
   ],
   "mimetype": "text/x-octave",
   "name": "octave",
   "version": "5.1.0"
  }
 },
 "nbformat": 4,
 "nbformat_minor": 4
}
