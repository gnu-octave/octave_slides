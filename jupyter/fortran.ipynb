{
 "cells": [
  {
   "cell_type": "markdown",
   "metadata": {},
   "source": [
    "# Calling Fortran functions from Octave\n",
    "\n",
    "> *Nov 22, 2019 — Kai T. Ohlhus &lt;<k.ohlhus@gmail.com>&gt; — [CC BY 4.0](http://creativecommons.org/licenses/by/4.0/)*"
   ]
  },
  {
   "cell_type": "code",
   "execution_count": 1,
   "metadata": {},
   "outputs": [
    {
     "name": "stdout",
     "output_type": "stream",
     "text": [
      "#include <octave/oct.h>\n",
      "#include <octave/f77-fcn.h>\n",
      "\n",
      "extern \"C\"\n",
      "{\n",
      "  F77_RET_T\n",
      "  F77_FUNC (dgesv, DGESV) (const F77_INT&  /* N    */,\n",
      "                           const F77_INT&  /* NRHS */,\n",
      "                                 F77_DBLE* /* A    */,\n",
      "                           const F77_INT&  /* LDA  */,\n",
      "                                 F77_INT*  /* IPIV */,\n",
      "                                 F77_DBLE* /* B    */,\n",
      "                           const F77_INT&  /* LDB  */,\n",
      "                                 F77_INT&  /* INFO */);\n",
      "}\n",
      "\n",
      "DEFUN_DLD (call_dgesv, args, ,\n",
      "\"[X, Afact, IPIV, INFO] = call_dgesv (A, B)\\n\\\n",
      "\\n\\\n",
      "DGESV computes the solution to a real system of linear equations\\n\\\n",
      "    A * X = B,\\n\\\n",
      " where A is an N-by-N matrix and X and B are N-by-NRHS matrices.\\n\\\n",
      "\\n\\\n",
      " The LU decomposition with partial pivoting and row interchanges is\\n\\\n",
      " used to factor A as\\n\\\n",
      "    A = P * L * U,\\n\\\n",
      " where P is a permutation matrix, L is unit lower triangular, and U is\\n\\\n",
      " upper triangular.  The factored form of A is then used to solve the\\n\\\n",
      " system of equations A * X = B.\\n\")\n",
      "{\n",
      "  if (args.length () != 2)\n",
      "    print_usage ();\n",
      "\n",
      "  // Input A to output Afact\n",
      "  NDArray Afact = args(0).array_value ();\n",
      "  double* A = Afact.fortran_vec ();\n",
      "  F77_INT N = Afact.rows ();\n",
      "\n",
      "  // Input B to output X\n",
      "  NDArray X = args(1).array_value ();\n",
      "  double* B = X.fortran_vec ();\n",
      "  F77_INT NRHS = X.cols ();\n",
      "\n",
      "  MArray<F77_INT> ipiv (dim_vector (N, 1));\n",
      "  F77_INT* IPIV = ipiv.fortran_vec ();\n",
      "\n",
      "  F77_INT INFO = -42;\n",
      "\n",
      "  F77_XFCN (dgesv, DGESV,\n",
      "            (N, NRHS, A, N, IPIV, B, N, INFO));\n",
      "\n",
      "  return ovl (X, Afact, ipiv, INFO);\n",
      "}\n",
      "\n"
     ]
    }
   ],
   "source": [
    "type call_dgesv.cc"
   ]
  },
  {
   "cell_type": "markdown",
   "metadata": {},
   "source": [
    "## Compiling\n",
    "\n",
    "Adding the flag `--verbose` gives more detailed information."
   ]
  },
  {
   "cell_type": "code",
   "execution_count": 2,
   "metadata": {},
   "outputs": [],
   "source": [
    "mkoctfile call_dgesv.cc"
   ]
  },
  {
   "cell_type": "code",
   "execution_count": 3,
   "metadata": {},
   "outputs": [
    {
     "name": "stdout",
     "output_type": "stream",
     "text": [
      "'call_dgesv' is a function from the file /home/siko1056/Documents/slides_octave_2019/jupyter/call_dgesv.oct\n",
      "\n",
      "[X, Afact, IPIV, INFO] = call_dgesv (A, B)\n",
      "\n",
      "DGESV computes the solution to a real system of linear equations\n",
      "    A * X = B,\n",
      " where A is an N-by-N matrix and X and B are N-by-NRHS matrices.\n",
      "\n",
      " The LU decomposition with partial pivoting and row interchanges is\n",
      " used to factor A as\n",
      "    A = P * L * U,\n",
      " where P is a permutation matrix, L is unit lower triangular, and U is\n",
      " upper triangular.  The factored form of A is then used to solve the\n",
      " system of equations A * X = B.\n",
      "\n",
      "\n",
      "Additional help for built-in functions and operators is\n",
      "available in the online version of the manual.  Use the command\n",
      "'doc <topic>' to search the manual index.\n",
      "\n",
      "Help and information about Octave is also available on the WWW\n",
      "at https://www.octave.org and via the help@octave.org\n",
      "mailing list.\n"
     ]
    }
   ],
   "source": [
    "help call_dgesv"
   ]
  },
  {
   "cell_type": "markdown",
   "metadata": {},
   "source": [
    "## Run the function"
   ]
  },
  {
   "cell_type": "code",
   "execution_count": 4,
   "metadata": {},
   "outputs": [],
   "source": [
    "N = 5;\n",
    "A = rand (N, N);\n",
    "B = A * ones (N, 2);"
   ]
  },
  {
   "cell_type": "code",
   "execution_count": 5,
   "metadata": {},
   "outputs": [
    {
     "name": "stdout",
     "output_type": "stream",
     "text": [
      "X =\n",
      "\n",
      "   1.00000   1.00000\n",
      "   1.00000   1.00000\n",
      "   1.00000   1.00000\n",
      "   1.00000   1.00000\n",
      "   1.00000   1.00000\n",
      "\n",
      "Afact =\n",
      "\n",
      "   0.901213   0.498489   0.912023   0.030848   0.097421\n",
      "   0.360164   0.525090   0.526292   0.519011   0.276095\n",
      "   0.664959   0.999816  -1.062117  -0.414877  -0.101192\n",
      "   0.103177   0.708969   0.388881   0.651182   0.640565\n",
      "   0.517676   0.195309   0.171248   0.361056   0.264987\n",
      "\n",
      "IPIV =\n",
      "\n",
      "   2\n",
      "   5\n",
      "   4\n",
      "   5\n",
      "   5\n",
      "\n",
      "INFO = 0\n"
     ]
    }
   ],
   "source": [
    "[X, Afact, IPIV, INFO] = call_dgesv (A, B)"
   ]
  },
  {
   "cell_type": "markdown",
   "metadata": {},
   "source": [
    "## Verify the output\n",
    "\n",
    "1. `X` is a solution?"
   ]
  },
  {
   "cell_type": "code",
   "execution_count": 6,
   "metadata": {},
   "outputs": [
    {
     "name": "stdout",
     "output_type": "stream",
     "text": [
      "ans =\n",
      "\n",
      "   4.4409e-16   4.4409e-16\n",
      "   0.0000e+00   0.0000e+00\n",
      "  -4.4409e-16  -4.4409e-16\n",
      "  -2.2204e-16  -2.2204e-16\n",
      "   0.0000e+00   0.0000e+00\n",
      "\n"
     ]
    }
   ],
   "source": [
    "A * X - B"
   ]
  },
  {
   "cell_type": "markdown",
   "metadata": {},
   "source": [
    "2. `Afact` is the factorized and pivoted matrix `A`?"
   ]
  },
  {
   "cell_type": "code",
   "execution_count": 7,
   "metadata": {},
   "outputs": [
    {
     "name": "stdout",
     "output_type": "stream",
     "text": [
      "L =\n",
      "\n",
      "   1.00000   0.00000   0.00000   0.00000   0.00000\n",
      "   0.36016   1.00000   0.00000   0.00000   0.00000\n",
      "   0.66496   0.99982   1.00000   0.00000   0.00000\n",
      "   0.10318   0.70897   0.38888   1.00000   0.00000\n",
      "   0.51768   0.19531   0.17125   0.36106   1.00000\n",
      "\n",
      "U =\n",
      "\n",
      "   0.90121   0.49849   0.91202   0.03085   0.09742\n",
      "   0.00000   0.52509   0.52629   0.51901   0.27610\n",
      "   0.00000   0.00000  -1.06212  -0.41488  -0.10119\n",
      "   0.00000   0.00000   0.00000   0.65118   0.64057\n",
      "   0.00000   0.00000   0.00000   0.00000   0.26499\n",
      "\n",
      "P =\n",
      "\n",
      "   2\n",
      "   5\n",
      "   4\n",
      "   1\n",
      "   3\n",
      "\n"
     ]
    }
   ],
   "source": [
    "[L, U, P] = lu (A, \"vector\")"
   ]
  },
  {
   "cell_type": "code",
   "execution_count": 8,
   "metadata": {},
   "outputs": [
    {
     "name": "stdout",
     "output_type": "stream",
     "text": [
      "ans =\n",
      "\n",
      "   0   0   0   0   0\n",
      "   0   0   0   0   0\n",
      "   0   0   0   0   0\n",
      "   0   0   0   0   0\n",
      "   0   0   0   0   0\n",
      "\n"
     ]
    }
   ],
   "source": [
    "Afact - (tril (L, -1) + U)"
   ]
  },
  {
   "cell_type": "code",
   "execution_count": null,
   "metadata": {},
   "outputs": [],
   "source": []
  }
 ],
 "metadata": {
  "kernelspec": {
   "display_name": "Octave",
   "language": "octave",
   "name": "octave"
  },
  "language_info": {
   "file_extension": ".m",
   "help_links": [
    {
     "text": "GNU Octave",
     "url": "https://www.gnu.org/software/octave/support.html"
    },
    {
     "text": "Octave Kernel",
     "url": "https://github.com/Calysto/octave_kernel"
    },
    {
     "text": "MetaKernel Magics",
     "url": "https://metakernel.readthedocs.io/en/latest/source/README.html"
    }
   ],
   "mimetype": "text/x-octave",
   "name": "octave",
   "version": "5.1.0"
  }
 },
 "nbformat": 4,
 "nbformat_minor": 4
}
